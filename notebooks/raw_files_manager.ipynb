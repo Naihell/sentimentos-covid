{
  "nbformat": 4,
  "nbformat_minor": 0,
  "metadata": {
    "colab": {
      "name": "raw_files_manager.ipynb",
      "provenance": [],
      "collapsed_sections": [],
      "include_colab_link": true
    },
    "kernelspec": {
      "name": "python3",
      "display_name": "Python 3"
    }
  },
  "cells": [
    {
      "cell_type": "markdown",
      "metadata": {
        "id": "view-in-github",
        "colab_type": "text"
      },
      "source": [
        "<a href=\"https://colab.research.google.com/github/Naihell/sentimentos-covid/blob/master/notebooks/raw_files_manager.ipynb\" target=\"_parent\"><img src=\"https://colab.research.google.com/assets/colab-badge.svg\" alt=\"Open In Colab\"/></a>"
      ]
    },
    {
      "cell_type": "code",
      "metadata": {
        "id": "S39ROnGmVU85",
        "colab_type": "code",
        "colab": {
          "base_uri": "https://localhost:8080/",
          "height": 887
        },
        "outputId": "a9010919-4407-4d96-e828-a23e557e6c9c"
      },
      "source": [
        "import glob\n",
        "import json\n",
        "import nltk\n",
        "nltk.download('stopwords')\n",
        "from nltk.corpus import stopwords\n",
        "import pandas as pd\n",
        "from ast import literal_eval\n",
        "from unicodedata import normalize\n",
        "# Merge all CSV files and remove duplicate rows (keeping the first one)\n",
        "\n",
        "stop = stopwords.words('portuguese')\n",
        "stop.append('rt')\n",
        "print('Palavras utilizadas como stopwords: ' + str(stop))\n",
        "folder_path = '/content/drive/My Drive/TCC/arquivos_twitter/csv_raw_files'\n",
        "csv_files = glob.glob(folder_path + '/*.csv')\n",
        "\n",
        "li = []\n",
        "\n",
        "for file in csv_files:\n",
        "  print(file)\n",
        "  df = pd.read_csv(file, index_col=None, header=0)\n",
        "  li.append(df)\n",
        "\n",
        "df = pd.concat(li, axis=0, ignore_index=True)\n",
        "print('\\nArquivo original (inclui duplicados)\\n')\n",
        "df.info()\n",
        "df.drop_duplicates(subset='tweet_id', keep='first', inplace=None)\n",
        "# TODO: Ver uma forma melhor de fazer isso aqui\n",
        "df['longitude'] = df['coordinates'].apply(lambda longitude: literal_eval(longitude).get('coordinates')[0] if pd.notna(longitude) else None)\n",
        "df['latitude'] = df['coordinates'].apply(lambda latitude: literal_eval(latitude).get('coordinates')[1] if pd.notna(latitude) else None)\n",
        "df['cleaned_message'] = df['message'].str.lower().str.normalize('NFKD').str.encode('ascii', errors='ignore').str.decode('utf-8')\n",
        "df['cleaned_message'] = df['cleaned_message'].apply(lambda x: ' '.join([item for item in x.split() if item not in stop]))\n",
        "print('\\nArquivo final (com as novas colunas e linhas duplicadas removidas)\\n')\n",
        "df.info()\n",
        "# df.to_csv('/content/drive/My Drive/TCC/arquivos_twitter/pre-tratamentos/unique_tweets.csv', index=False)"
      ],
      "execution_count": null,
      "outputs": [
        {
          "output_type": "stream",
          "text": [
            "[nltk_data] Downloading package stopwords to /root/nltk_data...\n",
            "[nltk_data]   Package stopwords is already up-to-date!\n",
            "Palavras utilizadas como stopwords: ['de', 'a', 'o', 'que', 'e', 'é', 'do', 'da', 'em', 'um', 'para', 'com', 'não', 'uma', 'os', 'no', 'se', 'na', 'por', 'mais', 'as', 'dos', 'como', 'mas', 'ao', 'ele', 'das', 'à', 'seu', 'sua', 'ou', 'quando', 'muito', 'nos', 'já', 'eu', 'também', 'só', 'pelo', 'pela', 'até', 'isso', 'ela', 'entre', 'depois', 'sem', 'mesmo', 'aos', 'seus', 'quem', 'nas', 'me', 'esse', 'eles', 'você', 'essa', 'num', 'nem', 'suas', 'meu', 'às', 'minha', 'numa', 'pelos', 'elas', 'qual', 'nós', 'lhe', 'deles', 'essas', 'esses', 'pelas', 'este', 'dele', 'tu', 'te', 'vocês', 'vos', 'lhes', 'meus', 'minhas', 'teu', 'tua', 'teus', 'tuas', 'nosso', 'nossa', 'nossos', 'nossas', 'dela', 'delas', 'esta', 'estes', 'estas', 'aquele', 'aquela', 'aqueles', 'aquelas', 'isto', 'aquilo', 'estou', 'está', 'estamos', 'estão', 'estive', 'esteve', 'estivemos', 'estiveram', 'estava', 'estávamos', 'estavam', 'estivera', 'estivéramos', 'esteja', 'estejamos', 'estejam', 'estivesse', 'estivéssemos', 'estivessem', 'estiver', 'estivermos', 'estiverem', 'hei', 'há', 'havemos', 'hão', 'houve', 'houvemos', 'houveram', 'houvera', 'houvéramos', 'haja', 'hajamos', 'hajam', 'houvesse', 'houvéssemos', 'houvessem', 'houver', 'houvermos', 'houverem', 'houverei', 'houverá', 'houveremos', 'houverão', 'houveria', 'houveríamos', 'houveriam', 'sou', 'somos', 'são', 'era', 'éramos', 'eram', 'fui', 'foi', 'fomos', 'foram', 'fora', 'fôramos', 'seja', 'sejamos', 'sejam', 'fosse', 'fôssemos', 'fossem', 'for', 'formos', 'forem', 'serei', 'será', 'seremos', 'serão', 'seria', 'seríamos', 'seriam', 'tenho', 'tem', 'temos', 'tém', 'tinha', 'tínhamos', 'tinham', 'tive', 'teve', 'tivemos', 'tiveram', 'tivera', 'tivéramos', 'tenha', 'tenhamos', 'tenham', 'tivesse', 'tivéssemos', 'tivessem', 'tiver', 'tivermos', 'tiverem', 'terei', 'terá', 'teremos', 'terão', 'teria', 'teríamos', 'teriam', 'rt']\n",
            "/content/drive/My Drive/TCC/arquivos_twitter/csv_raw_files/tweets_raw_20200627_20200705.csv\n",
            "/content/drive/My Drive/TCC/arquivos_twitter/csv_raw_files/tweets_raw.csv\n",
            "/content/drive/My Drive/TCC/arquivos_twitter/csv_raw_files/tweets_raw_corona.csv\n",
            "/content/drive/My Drive/TCC/arquivos_twitter/csv_raw_files/tweets_raw_pandemia.csv\n",
            "/content/drive/My Drive/TCC/arquivos_twitter/csv_raw_files/pandemia_20200802.csv\n",
            "/content/drive/My Drive/TCC/arquivos_twitter/csv_raw_files/corona_20200802.csv\n",
            "/content/drive/My Drive/TCC/arquivos_twitter/csv_raw_files/covid_20200808.csv\n",
            "/content/drive/My Drive/TCC/arquivos_twitter/csv_raw_files/covid_20200801.csv\n",
            "/content/drive/My Drive/TCC/arquivos_twitter/csv_raw_files/corona_20200808.csv\n",
            "/content/drive/My Drive/TCC/arquivos_twitter/csv_raw_files/pandemia_20200808.csv\n",
            "\n",
            "Arquivo original (inclui duplicados)\n",
            "\n",
            "<class 'pandas.core.frame.DataFrame'>\n",
            "RangeIndex: 6936579 entries, 0 to 6936578\n",
            "Data columns (total 7 columns):\n",
            " #   Column            Dtype \n",
            "---  ------            ----- \n",
            " 0   tweet_id          int64 \n",
            " 1   time_stamp        object\n",
            " 2   coordinates       object\n",
            " 3   retweets_count    int64 \n",
            " 4   user_id           int64 \n",
            " 5   user_screen_name  object\n",
            " 6   message           object\n",
            "dtypes: int64(3), object(4)\n",
            "memory usage: 370.5+ MB\n",
            "\n",
            "Arquivo final (com as novas colunas e linhas duplicadas removidas)\n",
            "\n",
            "<class 'pandas.core.frame.DataFrame'>\n",
            "RangeIndex: 6936579 entries, 0 to 6936578\n",
            "Data columns (total 10 columns):\n",
            " #   Column            Dtype  \n",
            "---  ------            -----  \n",
            " 0   tweet_id          int64  \n",
            " 1   time_stamp        object \n",
            " 2   coordinates       object \n",
            " 3   retweets_count    int64  \n",
            " 4   user_id           int64  \n",
            " 5   user_screen_name  object \n",
            " 6   message           object \n",
            " 7   longitude         float64\n",
            " 8   latitude          float64\n",
            " 9   cleaned_message   object \n",
            "dtypes: float64(2), int64(3), object(5)\n",
            "memory usage: 529.2+ MB\n"
          ],
          "name": "stdout"
        }
      ]
    },
    {
      "cell_type": "code",
      "metadata": {
        "id": "7aqLX2ruY__G",
        "colab_type": "code",
        "colab": {}
      },
      "source": [
        ""
      ],
      "execution_count": null,
      "outputs": []
    }
  ]
}