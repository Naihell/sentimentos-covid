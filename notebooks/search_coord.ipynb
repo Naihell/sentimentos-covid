{
  "nbformat": 4,
  "nbformat_minor": 0,
  "metadata": {
    "colab": {
      "name": "search_coord.ipynb",
      "provenance": [],
      "collapsed_sections": [],
      "mount_file_id": "1k6HFWLENAnGf9xJ25y6hOSJVq7JsamxW",
      "authorship_tag": "ABX9TyMa78IYmSkU3LEXDj1rfErq",
      "include_colab_link": true
    },
    "kernelspec": {
      "name": "python3",
      "display_name": "Python 3"
    }
  },
  "cells": [
    {
      "cell_type": "markdown",
      "metadata": {
        "id": "view-in-github",
        "colab_type": "text"
      },
      "source": [
        "<a href=\"https://colab.research.google.com/github/Naihell/sentimentos-covid/blob/master/notebooks/search_coord.ipynb\" target=\"_parent\"><img src=\"https://colab.research.google.com/assets/colab-badge.svg\" alt=\"Open In Colab\"/></a>"
      ]
    },
    {
      "cell_type": "code",
      "metadata": {
        "id": "-fnNEUORgOBH",
        "colab_type": "code",
        "colab": {}
      },
      "source": [
        "import pandas as pd\n",
        "import requests\n",
        "\n",
        "lugares = []\n",
        "\n",
        "df = pd.read_csv('/content/drive/My Drive/TCC/arquivos_twitter/pre-tratamentos/coordenadas.csv')\n",
        "df.head()\n",
        "\n",
        "for index, row in df.iterrows():\n",
        "  # A API faz uma consulta reversa a partir das coordenadas e retorna os locais de forma simples para a leitura.\n",
        "  r = requests.get('https://nominatim.openstreetmap.org/reverse?format=geojson&lat={}&lon={}'.format(row[0], row[1]))\n",
        "  dict_response = r.json()\n",
        "  try:\n",
        "    v = dict(dict_response.get('features')[0].get('properties').get('address'), **{'latitude': row[0], 'longitude': row[1]})\n",
        "    lugares.append(v)\n",
        "  except:\n",
        "    print(dict_response)\n",
        "  print('https://nominatim.openstreetmap.org/reverse?format=geojson&lat={}lon={} ----- Status:{} ----- Dicionário {}'.format(row[0], row[1], r.status_code, len(dicionario)))\n",
        "\n",
        "arquivo = pd.DataFrame(lugares)\n",
        "\n",
        "arquivo.to_csv('/content/drive/My Drive/TCC/arquivos_twitter/pre-tratamentos/coordenadas_full.csv', index=False)  "
      ],
      "execution_count": null,
      "outputs": []
    }
  ]
}